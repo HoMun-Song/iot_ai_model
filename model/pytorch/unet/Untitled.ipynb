{
 "cells": [
  {
   "cell_type": "code",
   "execution_count": 2,
   "id": "8c504225-887f-4b35-9ae2-1b959aa3b0a0",
   "metadata": {},
   "outputs": [],
   "source": [
    "from dataset import load_image\n",
    "from tqdm import tqdm"
   ]
  },
  {
   "cell_type": "code",
   "execution_count": 6,
   "id": "daf3669f-fe7f-4049-9567-3d031c8556d5",
   "metadata": {},
   "outputs": [],
   "source": [
    "data_path = '/home/workspace/iot_ai_model/dataset/supervisely_person/test_data_list.txt'\n",
    "with open(data_path, 'r') as f:\n",
    "    line = f.readlines()\n",
    "\n",
    "base = '/home/workspace/iot_ai_model/dataset/supervisely_person/'\n",
    "\n",
    "for p in tqdm(line):\n",
    "    filename = p.split(',')\n",
    "    load_image(base + filename[0])"
   ]
  },
  {
   "cell_type": "code",
   "execution_count": 7,
   "id": "5540d6ec-d895-4e37-ae09-180a867b8eb1",
   "metadata": {},
   "outputs": [],
   "source": [
    "with open(data_path, 'r') as f:\n",
    "    line = f.readlines()"
   ]
  },
  {
   "cell_type": "code",
   "execution_count": 8,
   "id": "6aeb6c11-4409-4229-87e1-d5a208189efd",
   "metadata": {},
   "outputs": [
    {
     "data": {
      "text/plain": [
       "'images/ds5_pexels-photo-245241.png,masks/ds5_pexels-photo-245241.png\\n'"
      ]
     },
     "execution_count": 8,
     "metadata": {},
     "output_type": "execute_result"
    }
   ],
   "source": [
    "line[0]"
   ]
  },
  {
   "cell_type": "code",
   "execution_count": 9,
   "id": "025e040b-9183-4ba2-84dc-0f1bf22d1a39",
   "metadata": {},
   "outputs": [],
   "source": [
    "base = '/home/workspace/iot_ai_model/dataset/supervisely_person/'"
   ]
  },
  {
   "cell_type": "code",
   "execution_count": 10,
   "id": "e0b9de40-2971-4cfb-aa51-cefa365ae6c0",
   "metadata": {},
   "outputs": [
    {
     "name": "stderr",
     "output_type": "stream",
     "text": [
      "100%|██████████| 534/534 [00:03<00:00, 162.41it/s]\n"
     ]
    }
   ],
   "source": [
    "for p in tqdm(line):\n",
    "    filename = p.split(',')\n",
    "    load_image(base + filename[0])"
   ]
  },
  {
   "cell_type": "code",
   "execution_count": 11,
   "id": "1b58c78e-c5e5-4b5d-888b-905fc04d983f",
   "metadata": {},
   "outputs": [],
   "source": [
    "import numpy as np"
   ]
  },
  {
   "cell_type": "code",
   "execution_count": 14,
   "id": "02689fbc-d8d6-4a2c-ba36-bef97e83738a",
   "metadata": {},
   "outputs": [
    {
     "data": {
      "text/plain": [
       "array([[[0.20851548, 0.23713661, 0.98066397],\n",
       "        [0.47770991, 0.38412959, 0.74244822],\n",
       "        [0.67685857, 0.42010599, 0.85444667]],\n",
       "\n",
       "       [[0.90989512, 0.91077076, 0.60643636],\n",
       "        [0.50688811, 0.90192914, 0.54455368],\n",
       "        [0.77876486, 0.14742858, 0.52557872]],\n",
       "\n",
       "       [[0.3292002 , 0.62815211, 0.2857488 ],\n",
       "        [0.95473058, 0.90021356, 0.85254326],\n",
       "        [0.34512984, 0.8133418 , 0.91349442]]])"
      ]
     },
     "execution_count": 14,
     "metadata": {},
     "output_type": "execute_result"
    }
   ],
   "source": [
    "np.random.random((3,3,3))"
   ]
  },
  {
   "cell_type": "code",
   "execution_count": null,
   "id": "49bd6cd1-397c-4eb4-9abb-281cbcdaa77c",
   "metadata": {},
   "outputs": [],
   "source": []
  }
 ],
 "metadata": {
  "kernelspec": {
   "display_name": "Python 3",
   "language": "python",
   "name": "python3"
  },
  "language_info": {
   "codemirror_mode": {
    "name": "ipython",
    "version": 3
   },
   "file_extension": ".py",
   "mimetype": "text/x-python",
   "name": "python",
   "nbconvert_exporter": "python",
   "pygments_lexer": "ipython3",
   "version": "3.6.9"
  }
 },
 "nbformat": 4,
 "nbformat_minor": 5
}

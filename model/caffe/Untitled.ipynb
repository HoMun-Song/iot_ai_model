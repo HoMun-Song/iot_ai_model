{
 "cells": [
  {
   "cell_type": "code",
   "execution_count": 5,
   "id": "a5bbab8b-0d51-4cea-9889-c3de1331a5e0",
   "metadata": {},
   "outputs": [],
   "source": [
    "from caffe2.python import workspace, model_helper\n",
    "import numpy as np"
   ]
  },
  {
   "cell_type": "code",
   "execution_count": 6,
   "id": "2f55b913-ddbe-4929-a88a-d010e2f2b6ab",
   "metadata": {},
   "outputs": [
    {
     "name": "stdout",
     "output_type": "stream",
     "text": [
      "[[[0.65798152 0.29509617]\n",
      "  [0.83669679 0.53581634]\n",
      "  [0.42895872 0.91485355]]\n",
      "\n",
      " [[0.63881674 0.24590494]\n",
      "  [0.95909306 0.54743433]\n",
      "  [0.68625738 0.33151325]]\n",
      "\n",
      " [[0.02689118 0.64815923]\n",
      "  [0.56353949 0.25357652]\n",
      "  [0.57252087 0.29994826]]\n",
      "\n",
      " [[0.35121854 0.52887886]\n",
      "  [0.11951092 0.03861707]\n",
      "  [0.28471758 0.33432999]]]\n",
      "(4, 3, 2)\n",
      "[[[0.65798152 0.29509617]\n",
      "  [0.83669679 0.53581634]\n",
      "  [0.42895872 0.91485355]]\n",
      "\n",
      " [[0.63881674 0.24590494]\n",
      "  [0.95909306 0.54743433]\n",
      "  [0.68625738 0.33151325]]\n",
      "\n",
      " [[0.02689118 0.64815923]\n",
      "  [0.56353949 0.25357652]\n",
      "  [0.57252087 0.29994826]]\n",
      "\n",
      " [[0.35121854 0.52887886]\n",
      "  [0.11951092 0.03861707]\n",
      "  [0.28471758 0.33432999]]]\n"
     ]
    }
   ],
   "source": [
    "# Create random tensor of three dimensions\n",
    "x = np.random.rand(4, 3, 2)\n",
    "print(x)\n",
    "print(x.shape)\n",
    "\n",
    "workspace.FeedBlob(\"my_x\", x)\n",
    "\n",
    "x2 = workspace.FetchBlob(\"my_x\")\n",
    "print(x2)"
   ]
  },
  {
   "cell_type": "code",
   "execution_count": null,
   "id": "3436d12d-f21c-405f-ad6a-9ce253b94c9b",
   "metadata": {},
   "outputs": [],
   "source": []
  }
 ],
 "metadata": {
  "kernelspec": {
   "display_name": "Python 3",
   "language": "python",
   "name": "python3"
  },
  "language_info": {
   "codemirror_mode": {
    "name": "ipython",
    "version": 3
   },
   "file_extension": ".py",
   "mimetype": "text/x-python",
   "name": "python",
   "nbconvert_exporter": "python",
   "pygments_lexer": "ipython3",
   "version": "3.6.9"
  }
 },
 "nbformat": 4,
 "nbformat_minor": 5
}

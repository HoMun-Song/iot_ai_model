{
 "cells": [
  {
   "cell_type": "code",
   "execution_count": 1,
   "id": "6c6c46a7-79db-4c1f-9a5d-81e362191434",
   "metadata": {},
   "outputs": [
    {
     "name": "stderr",
     "output_type": "stream",
     "text": [
      "/usr/local/lib/python3.6/dist-packages/tqdm/auto.py:22: TqdmWarning: IProgress not found. Please update jupyter and ipywidgets. See https://ipywidgets.readthedocs.io/en/stable/user_install.html\n",
      "  from .autonotebook import tqdm as notebook_tqdm\n"
     ]
    }
   ],
   "source": [
    "import pycuda.autoinit \n",
    "import pycuda.driver as cuda\n",
    "import tensorrt as trt\n",
    "import torch \n",
    "import time \n",
    "from PIL import Image\n",
    "import cv2,os\n",
    "import torchvision \n",
    "import numpy as np"
   ]
  },
  {
   "cell_type": "code",
   "execution_count": null,
   "id": "0bed6a29-96bf-4932-8ffd-0388507d826f",
   "metadata": {},
   "outputs": [],
   "source": [
    "def get_img_np_nchw(img_path):\n",
    "    img = Image.open(img_path).convert('L')\n",
    "    img = np.asarray(img, dtype='float32')\n",
    "    img = cv2.resize(np.array(img),(224, 224), interpolation = cv2.INTER_CUBIC)\n",
    "    img = img / 255.\n",
    "    img = img[np.newaxis, np.newaxis]\n",
    "    return img"
   ]
  },
  {
   "cell_type": "code",
   "execution_count": 11,
   "id": "fb127d4a-748e-4ca5-b7e4-b91f02efe276",
   "metadata": {},
   "outputs": [],
   "source": [
    "img = get_img_np_nchw('/home/workspace/iot_ai_model/dataset/casting_data/test/defect/cast_def_0_1137.jpeg')"
   ]
  },
  {
   "cell_type": "code",
   "execution_count": 13,
   "id": "820ae202-8d91-4c8b-98fe-2f9b0597bbce",
   "metadata": {},
   "outputs": [
    {
     "data": {
      "text/plain": [
       "array([[[[0.67058814, 0.67058825, 0.67058825, ..., 0.6820318 ,\n",
       "          0.68235296, 0.6823529 ],\n",
       "         [0.6709623 , 0.67096233, 0.67096233, ..., 0.68203175,\n",
       "          0.68235296, 0.6823529 ],\n",
       "         [0.667174  , 0.667174  , 0.667174  , ..., 0.68203175,\n",
       "          0.68235296, 0.6823529 ],\n",
       "         ...,\n",
       "         [0.60334754, 0.60001314, 0.59658575, ..., 0.6431372 ,\n",
       "          0.6431372 , 0.6431372 ],\n",
       "         [0.60334754, 0.60001314, 0.59658575, ..., 0.6431373 ,\n",
       "          0.6431373 , 0.64313734],\n",
       "         [0.60334754, 0.60001314, 0.59658575, ..., 0.6431373 ,\n",
       "          0.6431373 , 0.6431373 ]]]], dtype=float32)"
      ]
     },
     "execution_count": 13,
     "metadata": {},
     "output_type": "execute_result"
    }
   ],
   "source": [
    "img"
   ]
  },
  {
   "cell_type": "code",
   "execution_count": 2,
   "id": "1fca7000-b649-4ef8-a5dc-5e192ff89ea8",
   "metadata": {},
   "outputs": [],
   "source": [
    "with open('/home/workspace/iot_ai_model/inceptionv4_trt.engine', 'rb') as f:\n",
    "    engine_data = f.read()\n",
    "# engine = trt_runtime.deserialize_cuda_engine(engine_data)"
   ]
  },
  {
   "cell_type": "code",
   "execution_count": 3,
   "id": "d07754b2-9fb0-4783-9c40-b2560e3da9bf",
   "metadata": {},
   "outputs": [],
   "source": [
    "runtime = trt.Runtime(trt.Logger(trt.Logger.WARNING))"
   ]
  },
  {
   "cell_type": "code",
   "execution_count": 4,
   "id": "33c982b0-31c7-45ac-b79e-a64e28aa9056",
   "metadata": {},
   "outputs": [],
   "source": [
    "engine = runtime.deserialize_cuda_engine(engine_data)"
   ]
  },
  {
   "cell_type": "code",
   "execution_count": 6,
   "id": "a8f90521-19ac-4af6-960f-7f459a80a12f",
   "metadata": {},
   "outputs": [
    {
     "data": {
      "text/plain": [
       "6.666666666666667"
      ]
     },
     "execution_count": 6,
     "metadata": {},
     "output_type": "execute_result"
    }
   ],
   "source": [
    "1/ 0.15"
   ]
  },
  {
   "cell_type": "code",
   "execution_count": 7,
   "id": "55e49c49-5f95-40ea-a64a-1ca25ca40a98",
   "metadata": {},
   "outputs": [],
   "source": [
    "import numpy as np"
   ]
  },
  {
   "cell_type": "code",
   "execution_count": 17,
   "id": "7550f4bf-d5e7-475f-a1f7-71546f13fbaa",
   "metadata": {},
   "outputs": [],
   "source": [
    "a = np.array([[[1,2,4],[1,2,4],[1,2,4]],[[1,2,4],[1,2,4],[1,2,4]],[[1,2,4],[1,2,4],[1,2,4]]])"
   ]
  },
  {
   "cell_type": "code",
   "execution_count": 21,
   "id": "dc0a8837-f93c-4cdd-8e89-31852637c8f7",
   "metadata": {},
   "outputs": [
    {
     "data": {
      "text/plain": [
       "array([[[ 2.2489083 ,  6.89285714, 15.97333333],\n",
       "        [ 2.2489083 ,  6.89285714, 15.97333333],\n",
       "        [ 2.2489083 ,  6.89285714, 15.97333333]],\n",
       "\n",
       "       [[ 2.2489083 ,  6.89285714, 15.97333333],\n",
       "        [ 2.2489083 ,  6.89285714, 15.97333333],\n",
       "        [ 2.2489083 ,  6.89285714, 15.97333333]],\n",
       "\n",
       "       [[ 2.2489083 ,  6.89285714, 15.97333333],\n",
       "        [ 2.2489083 ,  6.89285714, 15.97333333],\n",
       "        [ 2.2489083 ,  6.89285714, 15.97333333]]])"
      ]
     },
     "execution_count": 21,
     "metadata": {},
     "output_type": "execute_result"
    }
   ],
   "source": [
    "(a - [0.485, 0.456, 0.406]) / [0.229, 0.224, 0.225]"
   ]
  },
  {
   "cell_type": "code",
   "execution_count": 19,
   "id": "c6923d43-9449-4ed2-ad6f-1bde32c7cbb1",
   "metadata": {},
   "outputs": [
    {
     "data": {
      "text/plain": [
       "(3, 3, 3)"
      ]
     },
     "execution_count": 19,
     "metadata": {},
     "output_type": "execute_result"
    }
   ],
   "source": [
    "a.shape"
   ]
  },
  {
   "cell_type": "code",
   "execution_count": 22,
   "id": "edfbae58-f03c-41bc-8632-3363188bbd10",
   "metadata": {},
   "outputs": [],
   "source": [
    "from PIL import Image"
   ]
  },
  {
   "cell_type": "code",
   "execution_count": 56,
   "id": "665a378e-85a0-41b9-a83a-bbf411d678c5",
   "metadata": {},
   "outputs": [],
   "source": [
    "img = Image.open('dataset/casting_data/test/defect/cast_def_0_1493.jpeg')"
   ]
  },
  {
   "cell_type": "code",
   "execution_count": 57,
   "id": "6f371aca-daef-45ff-809b-4ba7f7daeafe",
   "metadata": {},
   "outputs": [],
   "source": [
    "img = np.array(img.resize((224,224)), dtype=np.float32)"
   ]
  },
  {
   "cell_type": "code",
   "execution_count": 59,
   "id": "30b74c91-5fb1-4e5b-9d2a-46deddaeddae",
   "metadata": {},
   "outputs": [],
   "source": [
    "img = img * (1/255)"
   ]
  },
  {
   "cell_type": "code",
   "execution_count": 64,
   "id": "33d0f475-bb02-40fd-b145-6ecb13dc1b4c",
   "metadata": {},
   "outputs": [
    {
     "data": {
      "text/plain": [
       "array([[[0.68283771, 0.75169029, 0.85542726],\n",
       "        [0.68283771, 0.75169029, 0.85542726],\n",
       "        [0.69103258, 0.75997611, 0.86369465],\n",
       "        ...,\n",
       "        [0.38782227, 0.45340044, 0.55780102],\n",
       "        [0.38782227, 0.45340044, 0.55780102],\n",
       "        [0.38782227, 0.45340044, 0.55780102]],\n",
       "\n",
       "       [[0.68283771, 0.75169029, 0.85542726],\n",
       "        [0.68283771, 0.75169029, 0.85542726],\n",
       "        [0.69103258, 0.75997611, 0.86369465],\n",
       "        ...,\n",
       "        [0.38782227, 0.45340044, 0.55780102],\n",
       "        [0.38782227, 0.45340044, 0.55780102],\n",
       "        [0.38782227, 0.45340044, 0.55780102]],\n",
       "\n",
       "       [[0.68283771, 0.75169029, 0.85542726],\n",
       "        [0.68283771, 0.75169029, 0.85542726],\n",
       "        [0.69103258, 0.75997611, 0.86369465],\n",
       "        ...,\n",
       "        [0.38782227, 0.45340044, 0.55780102],\n",
       "        [0.38782227, 0.45340044, 0.55780102],\n",
       "        [0.38782227, 0.45340044, 0.55780102]],\n",
       "\n",
       "       ...,\n",
       "\n",
       "       [[0.6582531 , 0.72683281, 0.83062508],\n",
       "        [0.6582531 , 0.72683281, 0.83062508],\n",
       "        [0.6582531 , 0.72683281, 0.83062508],\n",
       "        ...,\n",
       "        [0.30587358, 0.37054219, 0.4751271 ],\n",
       "        [0.30587358, 0.37054219, 0.4751271 ],\n",
       "        [0.30587358, 0.37054219, 0.4751271 ]],\n",
       "\n",
       "       [[0.65005823, 0.71854698, 0.82235769],\n",
       "        [0.65005823, 0.71854698, 0.82235769],\n",
       "        [0.65005823, 0.71854698, 0.82235769],\n",
       "        ...,\n",
       "        [0.30587358, 0.37054219, 0.4751271 ],\n",
       "        [0.30587358, 0.37054219, 0.4751271 ],\n",
       "        [0.30587358, 0.37054219, 0.4751271 ]],\n",
       "\n",
       "       [[0.63366849, 0.70197533, 0.80582291],\n",
       "        [0.63366849, 0.70197533, 0.80582291],\n",
       "        [0.63366849, 0.70197533, 0.80582291],\n",
       "        ...,\n",
       "        [0.30587358, 0.37054219, 0.4751271 ],\n",
       "        [0.30587358, 0.37054219, 0.4751271 ],\n",
       "        [0.30587358, 0.37054219, 0.4751271 ]]])"
      ]
     },
     "execution_count": 64,
     "metadata": {},
     "output_type": "execute_result"
    }
   ],
   "source": [
    "(img - [0.485, 0.456, 0.406]) / np.sqrt([0.229, 0.224, 0.225])"
   ]
  },
  {
   "cell_type": "code",
   "execution_count": 66,
   "id": "8ea7b979-e29c-4486-86a3-1ae3360c315b",
   "metadata": {},
   "outputs": [
    {
     "data": {
      "text/plain": [
       "tensor([1., 0., 0., 0., 0., 0., 0., 0., 0., 0.])"
      ]
     },
     "execution_count": 66,
     "metadata": {},
     "output_type": "execute_result"
    }
   ],
   "source": [
    "import torch.nn.functional as F\n",
    "\n",
    "F.one_hot(torch.tensor(0), 10).float()"
   ]
  },
  {
   "cell_type": "code",
   "execution_count": null,
   "id": "2b13a585-c28f-465b-b805-d6ddf7a2b14c",
   "metadata": {},
   "outputs": [
    {
     "name": "stdout",
     "output_type": "stream",
     "text": [
      "logging file path : check_points/rnn/train.log\n",
      "training device : cuda\n",
      "Namespace(batch_size=256, cpus=-1, epochs=50, hidden_dim=8, layers=2, lr=0.01, name='rnn', random_seed=45, use_cpu=False)\n",
      "data size - trn : 98663, val : 24666\n",
      "100%|#############################| 386/386 [01:22<00:00,  4.67it/s, loss=0.974]\n",
      "trn Epoch:  1, time : 82.75, loss : 1.1106, f1-score : 0.5569\n",
      "100%|#############################################| 3/3 [01:36<00:00, 32.27s/it]\n",
      "best f1! save model. check_points/rnn/model_state_dict_best.pt\n",
      "val Epoch:  1, time : 96.91, loss : 0.0071, f1-score : 0.6193\n",
      "100%|#############################| 386/386 [01:24<00:00,  4.59it/s, loss=0.548]\n",
      "trn Epoch:  2, time : 84.14, loss : 0.7331, f1-score : 0.6684\n",
      "  0%|                                                     | 0/3 [00:00<?, ?it/s]"
     ]
    }
   ],
   "source": [
    "!python3 ./model/pytorch/rnn/train.py"
   ]
  },
  {
   "cell_type": "code",
   "execution_count": 13,
   "id": "2437a6fe-dc1e-471a-8ee9-7dcb80d0bd1c",
   "metadata": {},
   "outputs": [
    {
     "name": "stdout",
     "output_type": "stream",
     "text": [
      "logging file path : check_points/lstm/train.log\n",
      "training device : cuda\n",
      "Namespace(batch_size=512, cpus=-1, epochs=50, lr=0.0001, name='lstm', random_seed=45, use_cpu=False)\n",
      "data size - trn : 112837, val : 28210\n",
      "loaded weight: check_points/lstm/model_state_dict_best.pt\n",
      "100%|############################| 221/221 [00:46<00:00,  4.78it/s, loss=0.0794]\n",
      "trn Epoch:  1, time : 46.23, loss : 0.1111, f1-score : 0.9575\n",
      "100%|#############################################| 3/3 [00:41<00:00, 13.71s/it]\n",
      "best f1! save model. check_points/lstm/model_state_dict_best.pt\n",
      "val Epoch:  1, time : 41.15, loss : 0.0015, f1-score : 0.9587\n",
      "100%|#############################| 221/221 [00:45<00:00,  4.87it/s, loss=0.159]\n",
      "trn Epoch:  2, time : 45.36, loss : 0.1101, f1-score : 0.9570\n",
      "100%|#############################################| 3/3 [00:41<00:00, 13.82s/it]\n",
      "best f1! save model. check_points/lstm/model_state_dict_best.pt\n",
      "val Epoch:  2, time : 41.49, loss : 0.0014, f1-score : 0.9594\n",
      "100%|#############################| 221/221 [00:45<00:00,  4.86it/s, loss=0.144]\n",
      "trn Epoch:  3, time : 45.46, loss : 0.1182, f1-score : 0.9551\n",
      "100%|#############################################| 3/3 [00:43<00:00, 14.35s/it]\n",
      "best f1! save model. check_points/lstm/model_state_dict_best.pt\n",
      "val Epoch:  3, time : 43.08, loss : 0.0015, f1-score : 0.9601\n",
      "100%|#############################| 221/221 [00:45<00:00,  4.84it/s, loss=0.111]\n",
      "trn Epoch:  4, time : 45.66, loss : 0.1074, f1-score : 0.9586\n",
      "100%|#############################################| 3/3 [00:41<00:00, 13.98s/it]\n",
      "val Epoch:  4, time : 41.97, loss : 0.0016, f1-score : 0.9541\n",
      "100%|############################| 221/221 [00:45<00:00,  4.82it/s, loss=0.0691]\n",
      "trn Epoch:  5, time : 45.82, loss : 0.1047, f1-score : 0.9600\n",
      "100%|#############################################| 3/3 [00:42<00:00, 14.04s/it]\n",
      "val Epoch:  5, time : 42.12, loss : 0.0014, f1-score : 0.9598\n",
      "100%|###############################| 221/221 [00:45<00:00,  4.86it/s, loss=0.1]\n",
      "trn Epoch:  6, time : 45.46, loss : 0.1027, f1-score : 0.9603\n",
      "100%|#############################################| 3/3 [00:41<00:00, 13.94s/it]\n",
      "val Epoch:  6, time : 41.86, loss : 0.0014, f1-score : 0.9586\n",
      "100%|#############################| 221/221 [00:45<00:00,  4.85it/s, loss=0.085]\n",
      "trn Epoch:  7, time : 45.57, loss : 0.1037, f1-score : 0.9598\n",
      "100%|#############################################| 3/3 [00:41<00:00, 13.95s/it]\n",
      "best f1! save model. check_points/lstm/model_state_dict_best.pt\n",
      "val Epoch:  7, time : 41.88, loss : 0.0014, f1-score : 0.9603\n",
      "100%|############################| 221/221 [00:46<00:00,  4.76it/s, loss=0.0922]\n",
      "trn Epoch:  8, time : 46.42, loss : 0.1041, f1-score : 0.9591\n",
      "100%|#############################################| 3/3 [00:41<00:00, 13.87s/it]\n",
      "best f1! save model. check_points/lstm/model_state_dict_best.pt\n",
      "val Epoch:  8, time : 41.63, loss : 0.0014, f1-score : 0.9605\n",
      "100%|#############################| 221/221 [00:45<00:00,  4.86it/s, loss=0.111]\n",
      "trn Epoch:  9, time : 45.52, loss : 0.1020, f1-score : 0.9606\n",
      "100%|#############################################| 3/3 [00:41<00:00, 13.95s/it]\n",
      "best f1! save model. check_points/lstm/model_state_dict_best.pt\n",
      "val Epoch:  9, time : 41.88, loss : 0.0014, f1-score : 0.9633\n",
      "100%|############################| 221/221 [00:45<00:00,  4.85it/s, loss=0.0894]\n",
      "trn Epoch: 10, time : 45.57, loss : 0.1000, f1-score : 0.9612\n",
      "100%|#############################################| 3/3 [00:42<00:00, 14.02s/it]\n",
      "val Epoch: 10, time : 42.08, loss : 0.0014, f1-score : 0.9599\n",
      "100%|#############################| 221/221 [00:45<00:00,  4.84it/s, loss=0.124]\n",
      "trn Epoch: 11, time : 45.71, loss : 0.0985, f1-score : 0.9611\n",
      "100%|#############################################| 3/3 [00:42<00:00, 14.21s/it]\n",
      "val Epoch: 11, time : 42.66, loss : 0.0014, f1-score : 0.9605\n",
      "100%|############################| 221/221 [00:45<00:00,  4.87it/s, loss=0.0808]\n",
      "trn Epoch: 12, time : 45.38, loss : 0.0994, f1-score : 0.9611\n",
      "100%|#############################################| 3/3 [00:42<00:00, 14.20s/it]\n",
      "val Epoch: 12, time : 42.63, loss : 0.0014, f1-score : 0.9631\n",
      "100%|############################| 221/221 [00:45<00:00,  4.85it/s, loss=0.0813]\n",
      "trn Epoch: 13, time : 45.63, loss : 0.1009, f1-score : 0.9607\n",
      "100%|#############################################| 3/3 [00:41<00:00, 13.87s/it]\n",
      "val Epoch: 13, time : 41.62, loss : 0.0014, f1-score : 0.9628\n",
      "100%|#############################| 221/221 [00:46<00:00,  4.77it/s, loss=0.108]\n",
      "trn Epoch: 14, time : 46.30, loss : 0.1000, f1-score : 0.9612\n",
      "100%|#############################################| 3/3 [00:42<00:00, 14.28s/it]\n",
      "best f1! save model. check_points/lstm/model_state_dict_best.pt\n",
      "val Epoch: 14, time : 42.87, loss : 0.0013, f1-score : 0.9634\n",
      "100%|#############################| 221/221 [00:46<00:00,  4.78it/s, loss=0.109]\n",
      "trn Epoch: 15, time : 46.23, loss : 0.0957, f1-score : 0.9627\n",
      "100%|#############################################| 3/3 [00:42<00:00, 14.06s/it]\n",
      "val Epoch: 15, time : 42.20, loss : 0.0013, f1-score : 0.9593\n",
      "100%|#############################| 221/221 [00:45<00:00,  4.81it/s, loss=0.138]\n",
      "trn Epoch: 16, time : 45.95, loss : 0.0943, f1-score : 0.9632\n",
      "100%|#############################################| 3/3 [00:42<00:00, 14.12s/it]\n",
      "val Epoch: 16, time : 42.39, loss : 0.0013, f1-score : 0.9620\n",
      "100%|############################| 221/221 [00:46<00:00,  4.75it/s, loss=0.0822]\n",
      "trn Epoch: 17, time : 46.50, loss : 0.0985, f1-score : 0.9615\n",
      "100%|#############################################| 3/3 [00:42<00:00, 14.26s/it]\n",
      "val Epoch: 17, time : 42.80, loss : 0.0014, f1-score : 0.9618\n",
      "100%|#############################| 221/221 [00:45<00:00,  4.83it/s, loss=0.114]\n",
      "trn Epoch: 18, time : 45.76, loss : 0.0949, f1-score : 0.9621\n",
      "100%|#############################################| 3/3 [00:40<00:00, 13.58s/it]\n",
      "best f1! save model. check_points/lstm/model_state_dict_best.pt\n",
      "val Epoch: 18, time : 40.76, loss : 0.0012, f1-score : 0.9648\n",
      "100%|############################| 221/221 [00:45<00:00,  4.80it/s, loss=0.0874]\n",
      "trn Epoch: 19, time : 46.02, loss : 0.0925, f1-score : 0.9632\n",
      "100%|#############################################| 3/3 [00:42<00:00, 14.26s/it]\n",
      "val Epoch: 19, time : 42.83, loss : 0.0013, f1-score : 0.9633\n",
      "100%|##############################| 221/221 [00:46<00:00,  4.76it/s, loss=0.19]\n",
      "trn Epoch: 20, time : 46.43, loss : 0.0943, f1-score : 0.9631\n",
      "100%|#############################################| 3/3 [00:42<00:00, 14.31s/it]\n",
      "best f1! save model. check_points/lstm/model_state_dict_best.pt\n",
      "val Epoch: 20, time : 42.94, loss : 0.0012, f1-score : 0.9653\n",
      "100%|############################| 221/221 [00:46<00:00,  4.79it/s, loss=0.0823]\n",
      "trn Epoch: 21, time : 46.12, loss : 0.0920, f1-score : 0.9637\n",
      "100%|#############################################| 3/3 [00:42<00:00, 14.21s/it]\n",
      "best f1! save model. check_points/lstm/model_state_dict_best.pt\n",
      "val Epoch: 21, time : 42.64, loss : 0.0012, f1-score : 0.9655\n",
      "100%|############################| 221/221 [00:45<00:00,  4.86it/s, loss=0.0766]\n",
      "trn Epoch: 22, time : 45.53, loss : 0.0920, f1-score : 0.9632\n",
      "100%|#############################################| 3/3 [00:40<00:00, 13.44s/it]\n",
      "val Epoch: 22, time : 40.34, loss : 0.0012, f1-score : 0.9652\n",
      "100%|#############################| 221/221 [00:46<00:00,  4.76it/s, loss=0.104]\n",
      "trn Epoch: 23, time : 46.45, loss : 0.0907, f1-score : 0.9637\n",
      "100%|#############################################| 3/3 [00:43<00:00, 14.45s/it]\n",
      "val Epoch: 23, time : 43.38, loss : 0.0013, f1-score : 0.9590\n",
      "100%|############################| 221/221 [00:45<00:00,  4.83it/s, loss=0.0907]\n",
      "trn Epoch: 24, time : 45.76, loss : 0.0910, f1-score : 0.9637\n",
      "100%|#############################################| 3/3 [00:44<00:00, 14.97s/it]\n",
      "best f1! save model. check_points/lstm/model_state_dict_best.pt\n",
      "val Epoch: 24, time : 44.94, loss : 0.0012, f1-score : 0.9657\n",
      "100%|#############################| 221/221 [00:45<00:00,  4.82it/s, loss=0.106]\n",
      "trn Epoch: 25, time : 45.83, loss : 0.0913, f1-score : 0.9642\n",
      "100%|#############################################| 3/3 [00:42<00:00, 14.25s/it]\n",
      "best f1! save model. check_points/lstm/model_state_dict_best.pt\n",
      "val Epoch: 25, time : 42.77, loss : 0.0012, f1-score : 0.9658\n",
      "100%|#############################| 221/221 [00:45<00:00,  4.82it/s, loss=0.068]\n",
      "trn Epoch: 26, time : 45.91, loss : 0.0890, f1-score : 0.9650\n",
      "100%|#############################################| 3/3 [00:41<00:00, 13.89s/it]\n",
      "val Epoch: 26, time : 41.71, loss : 0.0014, f1-score : 0.9619\n",
      "100%|#############################| 221/221 [00:45<00:00,  4.83it/s, loss=0.144]\n",
      "trn Epoch: 27, time : 45.79, loss : 0.0906, f1-score : 0.9643\n",
      "100%|#############################################| 3/3 [00:41<00:00, 13.96s/it]\n",
      "val Epoch: 27, time : 41.89, loss : 0.0012, f1-score : 0.9653\n",
      "100%|############################| 221/221 [00:45<00:00,  4.82it/s, loss=0.0731]\n",
      "trn Epoch: 28, time : 45.87, loss : 0.0904, f1-score : 0.9643\n",
      "100%|#############################################| 3/3 [00:41<00:00, 13.82s/it]\n",
      "best f1! save model. check_points/lstm/model_state_dict_best.pt\n",
      "val Epoch: 28, time : 41.49, loss : 0.0012, f1-score : 0.9675\n",
      "100%|#############################| 221/221 [00:45<00:00,  4.87it/s, loss=0.114]\n",
      "trn Epoch: 29, time : 45.41, loss : 0.0882, f1-score : 0.9651\n",
      "100%|#############################################| 3/3 [00:43<00:00, 14.35s/it]\n",
      "best f1! save model. check_points/lstm/model_state_dict_best.pt\n",
      "val Epoch: 29, time : 43.06, loss : 0.0012, f1-score : 0.9682\n",
      "100%|##############################| 221/221 [00:45<00:00,  4.83it/s, loss=0.12]\n",
      "trn Epoch: 30, time : 45.78, loss : 0.0878, f1-score : 0.9654\n",
      "100%|#############################################| 3/3 [00:42<00:00, 14.17s/it]\n",
      "val Epoch: 30, time : 42.54, loss : 0.0012, f1-score : 0.9647\n",
      "100%|############################| 221/221 [00:46<00:00,  4.79it/s, loss=0.0547]\n",
      "trn Epoch: 31, time : 46.16, loss : 0.0864, f1-score : 0.9659\n",
      "100%|#############################################| 3/3 [00:41<00:00, 13.89s/it]\n",
      "val Epoch: 31, time : 41.69, loss : 0.0013, f1-score : 0.9623\n",
      "100%|############################| 221/221 [00:45<00:00,  4.91it/s, loss=0.0851]\n",
      "trn Epoch: 32, time : 45.07, loss : 0.0877, f1-score : 0.9660\n",
      "100%|#############################################| 3/3 [00:42<00:00, 14.20s/it]\n",
      "val Epoch: 32, time : 42.64, loss : 0.0013, f1-score : 0.9621\n",
      "100%|#############################| 221/221 [00:45<00:00,  4.83it/s, loss=0.114]\n",
      "trn Epoch: 33, time : 45.75, loss : 0.0867, f1-score : 0.9660\n",
      "100%|#############################################| 3/3 [00:40<00:00, 13.60s/it]\n",
      "val Epoch: 33, time : 40.82, loss : 0.0013, f1-score : 0.9639\n",
      "100%|###############################| 221/221 [00:45<00:00,  4.86it/s, loss=0.1]\n",
      "trn Epoch: 34, time : 45.50, loss : 0.0863, f1-score : 0.9661\n",
      "100%|#############################################| 3/3 [00:41<00:00, 13.88s/it]\n",
      "val Epoch: 34, time : 41.66, loss : 0.0013, f1-score : 0.9631\n",
      "100%|#############################| 221/221 [00:45<00:00,  4.82it/s, loss=0.051]\n",
      "trn Epoch: 35, time : 45.86, loss : 0.0858, f1-score : 0.9662\n",
      "100%|#############################################| 3/3 [00:42<00:00, 14.20s/it]\n",
      "val Epoch: 35, time : 42.63, loss : 0.0012, f1-score : 0.9649\n",
      "100%|############################| 221/221 [00:45<00:00,  4.82it/s, loss=0.0677]\n",
      "trn Epoch: 36, time : 45.83, loss : 0.0854, f1-score : 0.9663\n",
      "100%|#############################################| 3/3 [00:41<00:00, 13.99s/it]\n",
      "val Epoch: 36, time : 41.98, loss : 0.0012, f1-score : 0.9663\n",
      "100%|#############################| 221/221 [00:45<00:00,  4.86it/s, loss=0.108]\n",
      "trn Epoch: 37, time : 45.49, loss : 0.0868, f1-score : 0.9648\n",
      "100%|#############################################| 3/3 [00:41<00:00, 13.96s/it]\n",
      "val Epoch: 37, time : 41.90, loss : 0.0016, f1-score : 0.9490\n",
      "100%|############################| 221/221 [00:45<00:00,  4.86it/s, loss=0.0316]\n",
      "trn Epoch: 38, time : 45.47, loss : 0.0946, f1-score : 0.9622\n",
      "100%|#############################################| 3/3 [00:42<00:00, 14.05s/it]\n",
      "val Epoch: 38, time : 42.19, loss : 0.0014, f1-score : 0.9598\n",
      "100%|############################| 221/221 [00:45<00:00,  4.87it/s, loss=0.0795]\n",
      "trn Epoch: 39, time : 45.39, loss : 0.0852, f1-score : 0.9663\n",
      "100%|#############################################| 3/3 [00:42<00:00, 14.16s/it]\n",
      "val Epoch: 39, time : 42.49, loss : 0.0013, f1-score : 0.9626\n",
      "100%|############################| 221/221 [00:45<00:00,  4.85it/s, loss=0.0355]\n",
      "trn Epoch: 40, time : 45.53, loss : 0.0847, f1-score : 0.9663\n",
      "100%|#############################################| 3/3 [00:41<00:00, 13.92s/it]\n",
      "best f1! save model. check_points/lstm/model_state_dict_best.pt\n",
      "val Epoch: 40, time : 41.80, loss : 0.0011, f1-score : 0.9689\n",
      "100%|############################| 221/221 [00:45<00:00,  4.83it/s, loss=0.0853]\n",
      "trn Epoch: 41, time : 45.77, loss : 0.0845, f1-score : 0.9664\n",
      "100%|#############################################| 3/3 [00:42<00:00, 14.03s/it]\n",
      "val Epoch: 41, time : 42.13, loss : 0.0012, f1-score : 0.9672\n",
      "100%|############################| 221/221 [00:45<00:00,  4.83it/s, loss=0.0925]\n",
      "trn Epoch: 42, time : 45.82, loss : 0.0815, f1-score : 0.9679\n",
      "100%|#############################################| 3/3 [00:40<00:00, 13.65s/it]\n",
      "val Epoch: 42, time : 40.97, loss : 0.0011, f1-score : 0.9680\n",
      "100%|############################| 221/221 [00:45<00:00,  4.85it/s, loss=0.0945]\n",
      "trn Epoch: 43, time : 45.61, loss : 0.0838, f1-score : 0.9667\n",
      "100%|#############################################| 3/3 [00:40<00:00, 13.58s/it]\n",
      "val Epoch: 43, time : 40.75, loss : 0.0013, f1-score : 0.9643\n",
      "100%|############################| 221/221 [00:45<00:00,  4.86it/s, loss=0.0743]\n",
      "trn Epoch: 44, time : 45.47, loss : 0.0851, f1-score : 0.9663\n",
      "100%|#############################################| 3/3 [00:41<00:00, 13.71s/it]\n",
      "best f1! save model. check_points/lstm/model_state_dict_best.pt\n",
      "val Epoch: 44, time : 41.16, loss : 0.0011, f1-score : 0.9700\n",
      "100%|############################| 221/221 [00:45<00:00,  4.87it/s, loss=0.0665]\n",
      "trn Epoch: 45, time : 45.38, loss : 0.0810, f1-score : 0.9679\n",
      "100%|#############################################| 3/3 [00:42<00:00, 14.20s/it]\n",
      "val Epoch: 45, time : 42.62, loss : 0.0011, f1-score : 0.9667\n",
      "100%|############################| 221/221 [00:45<00:00,  4.91it/s, loss=0.0812]\n",
      "trn Epoch: 46, time : 45.03, loss : 0.0893, f1-score : 0.9653\n",
      "100%|#############################################| 3/3 [00:42<00:00, 14.13s/it]\n",
      "val Epoch: 46, time : 42.40, loss : 0.0012, f1-score : 0.9639\n",
      "100%|#############################| 221/221 [00:45<00:00,  4.82it/s, loss=0.103]\n",
      "trn Epoch: 47, time : 45.85, loss : 0.0801, f1-score : 0.9681\n",
      "100%|#############################################| 3/3 [00:42<00:00, 14.16s/it]\n",
      "val Epoch: 47, time : 42.50, loss : 0.0012, f1-score : 0.9663\n",
      "100%|############################| 221/221 [00:45<00:00,  4.84it/s, loss=0.0464]\n",
      "trn Epoch: 48, time : 45.64, loss : 0.0819, f1-score : 0.9675\n",
      "100%|#############################################| 3/3 [00:41<00:00, 13.78s/it]\n",
      "val Epoch: 48, time : 41.38, loss : 0.0011, f1-score : 0.9676\n",
      "100%|############################| 221/221 [00:45<00:00,  4.88it/s, loss=0.0498]\n",
      "trn Epoch: 49, time : 45.34, loss : 0.0801, f1-score : 0.9678\n",
      "100%|#############################################| 3/3 [00:42<00:00, 14.13s/it]\n",
      "best f1! save model. check_points/lstm/model_state_dict_best.pt\n",
      "val Epoch: 49, time : 42.40, loss : 0.0011, f1-score : 0.9704\n",
      "100%|#############################| 221/221 [00:45<00:00,  4.84it/s, loss=0.146]\n",
      "trn Epoch: 50, time : 45.64, loss : 0.0798, f1-score : 0.9683\n",
      "100%|#############################################| 3/3 [00:42<00:00, 14.01s/it]\n",
      "best f1! save model. check_points/lstm/model_state_dict_best.pt\n",
      "val Epoch: 50, time : 42.05, loss : 0.0010, f1-score : 0.9708\n",
      "tensor([[13054,    39,    62,   267,   103],\n",
      "        [   26,  3666,     0,     0,    12],\n",
      "        [   96,     8,  3104,     0,     0],\n",
      "        [  122,     0,     0,  4995,     0],\n",
      "        [   90,     0,     0,     0,  2566]])\n"
     ]
    }
   ],
   "source": [
    "!python3 ./model/pytorch/lstm/train.py --lr 0.0001"
   ]
  },
  {
   "cell_type": "code",
   "execution_count": 14,
   "id": "91f10705-f78c-4580-a444-0cd1d15d5dd9",
   "metadata": {},
   "outputs": [
    {
     "name": "stdout",
     "output_type": "stream",
     "text": [
      "2022-09-28 08:40:29,828 - 624/3683 - dataset/current/test/def_shaft_alignment/STFCB-20201012-0105-0137_20201116_061507_002.csv, Predicted : def_shaft_alignment, Actual : def_shaft_alignment, Correct : True, loss : 0.0032\n",
      "2022-09-28 08:40:29,855 - 625/3683 - dataset/current/test/def_shaft_alignment/STFCB-20201012-0105-0148_20201116_122606_002.csv, Predicted : def_shaft_alignment, Actual : def_shaft_alignment, Correct : True, loss : 0.0018\n",
      "2022-09-28 08:40:29,883 - 626/3683 - dataset/current/test/def_shaft_alignment/STFCB-20201012-0105-0148_20201116_092507_002.csv, Predicted : def_shaft_alignment, Actual : def_shaft_alignment, Correct : True, loss : 0.0020\n",
      "2022-09-28 08:40:29,910 - 627/3683 - dataset/current/test/def_shaft_alignment/STFCB-20201012-0105-0148_20201116_012605_002.csv, Predicted : def_shaft_alignment, Actual : def_shaft_alignment, Correct : True, loss : 0.0053\n",
      "2022-09-28 08:40:29,937 - 628/3683 - dataset/current/test/def_shaft_alignment/STFCB-20201012-0105-0148_20201116_122408_002.csv, Predicted : def_shaft_alignment, Actual : def_shaft_alignment, Correct : True, loss : 0.0018\n",
      "2022-09-28 08:40:29,966 - 629/3683 - dataset/current/test/def_shaft_alignment/STFCB-20201012-0105-0134_20201117_150706_002.csv, Predicted : def_shaft_alignment, Actual : def_shaft_alignment, Correct : True, loss : 0.2417\n",
      "2022-09-28 08:40:29,995 - 630/3683 - dataset/current/test/def_shaft_alignment/STFCB-20201012-0105-0143_20210205_190406_002.csv, Predicted : def_shaft_alignment, Actual : def_shaft_alignment, Correct : True, loss : 0.2735\n",
      "2022-09-28 08:40:30,022 - 631/3683 - dataset/current/test/def_shaft_alignment/STFCB-20201012-0105-0143_20210205_130306_002.csv, Predicted : def_shaft_alignment, Actual : def_shaft_alignment, Correct : True, loss : 0.0113\n",
      "2022-09-28 08:40:30,050 - 632/3683 - dataset/current/test/def_shaft_alignment/STFCB-20201012-0105-0149_20201128_042605_002.csv, Predicted : def_shaft_alignment, Actual : def_shaft_alignment, Correct : True, loss : 0.0034\n",
      "2022-09-28 08:40:30,077 - 633/3683 - dataset/current/test/def_shaft_alignment/STFCB-20201012-0105-0141_20201116_184107_002.csv, Predicted : def_shaft_alignment, Actual : def_shaft_alignment, Correct : True, loss : 0.0015\n",
      "2022-09-28 08:40:30,104 - 634/3683 - dataset/current/test/def_shaft_alignment/STFCB-20201012-0105-0137_20201116_034507_002.csv, Predicted : def_shaft_alignment, Actual : def_shaft_alignment, Correct : True, loss : 0.0019\n",
      "2022-09-28 08:40:30,132 - 635/3683 - dataset/current/test/def_shaft_alignment/STFCB-20201012-0105-0145_20201206_221605_002.csv, Predicted : def_shaft_alignment, Actual : def_shaft_alignment, Correct : True, loss : 0.0991\n",
      "2022-09-28 08:40:30,159 - 636/3683 - dataset/current/test/def_shaft_alignment/STFCB-20201012-0105-0145_20201206_181205_002.csv, Predicted : def_shaft_alignment, Actual : def_shaft_alignment, Correct : True, loss : 0.0117\n",
      "2022-09-28 08:40:30,187 - 637/3683 - dataset/current/test/def_shaft_alignment/STFCB-20201012-0105-0134_20201117_135105_002.csv, Predicted : def_shaft_alignment, Actual : def_shaft_alignment, Correct : True, loss : 0.2823\n",
      "2022-09-28 08:40:30,217 - 638/3683 - dataset/current/test/def_shaft_alignment/STFCB-20201012-0105-0143_20210205_200605_002.csv, Predicted : normal, Actual : def_shaft_alignment, Correct : False, loss : 1.6102\n",
      "2022-09-28 08:40:30,245 - 639/3683 - dataset/current/test/def_shaft_alignment/STFCB-20201012-0105-0134_20201117_132706_002.csv, Predicted : def_shaft_alignment, Actual : def_shaft_alignment, Correct : True, loss : 0.2208\n",
      "2022-09-28 08:40:30,275 - 640/3683 - dataset/current/test/def_shaft_alignment/STFCB-20201012-0105-0139_20201123_140506_002.csv, Predicted : def_shaft_alignment, Actual : def_shaft_alignment, Correct : True, loss : 0.3525\n",
      "2022-09-28 08:40:30,302 - 641/3683 - dataset/current/test/def_shaft_alignment/STFCB-20201012-0105-0148_20201116_052405_002.csv, Predicted : def_shaft_alignment, Actual : def_shaft_alignment, Correct : True, loss : 0.0051\n",
      "2022-09-28 08:40:30,331 - 642/3683 - dataset/current/test/def_shaft_alignment/STFCB-20201012-0105-0134_20201117_134505_002.csv, Predicted : def_shaft_alignment, Actual : def_shaft_alignment, Correct : True, loss : 0.4250\n",
      "2022-09-28 08:40:30,358 - 643/3683 - dataset/current/test/def_shaft_alignment/STFCB-20201012-0105-0133_20201125_230508_002.csv, Predicted : def_shaft_alignment, Actual : def_shaft_alignment, Correct : True, loss : 0.0123\n",
      "2022-09-28 08:40:30,385 - 644/3683 - dataset/current/test/def_shaft_alignment/STFCB-20201012-0105-0148_20201116_062206_002.csv, Predicted : def_shaft_alignment, Actual : def_shaft_alignment, Correct : True, loss : 0.0068\n",
      "2022-09-28 08:40:30,413 - 645/3683 - dataset/current/test/def_shaft_alignment/STFCB-20201012-0105-0145_20201206_214007_002.csv, Predicted : def_shaft_alignment, Actual : def_shaft_alignment, Correct : True, loss : 0.0241\n",
      "2022-09-28 08:40:30,440 - 646/3683 - dataset/current/test/def_shaft_alignment/STFCB-20201012-0105-0141_20201116_181106_002.csv, Predicted : def_shaft_alignment, Actual : def_shaft_alignment, Correct : True, loss : 0.0016\n",
      "2022-09-28 08:40:30,468 - 647/3683 - dataset/current/test/def_shaft_alignment/STFCB-20201012-0105-0139_20201123_110507_002.csv, Predicted : def_shaft_alignment, Actual : def_shaft_alignment, Correct : True, loss : 0.6316\n",
      "2022-09-28 08:40:30,491 - 648/3683 - dataset/current/test/def_shaft_alignment/STFCB-20201012-0105-0149_20201128_122607_002.csv, Predicted : def_shaft_alignment, Actual : def_shaft_alignment, Correct : True, loss : 0.0035\n",
      "2022-09-28 08:40:30,516 - 649/3683 - dataset/current/test/def_shaft_alignment/STFCB-20201012-0105-0134_20201117_134906_002.csv, Predicted : def_shaft_alignment, Actual : def_shaft_alignment, Correct : True, loss : 0.1402\n",
      "2022-09-28 08:40:30,539 - 650/3683 - dataset/current/test/def_shaft_alignment/STFCB-20201012-0105-0145_20201206_141307_002.csv, Predicted : def_shaft_alignment, Actual : def_shaft_alignment, Correct : True, loss : 0.0133\n",
      "2022-09-28 08:40:30,563 - 651/3683 - dataset/current/test/def_shaft_alignment/STFCB-20201012-0105-0145_20201206_151106_002.csv, Predicted : def_shaft_alignment, Actual : def_shaft_alignment, Correct : True, loss : 0.0111\n",
      "2022-09-28 08:40:30,586 - 652/3683 - dataset/current/test/def_shaft_alignment/STFCB-20201012-0105-0137_20201116_054305_002.csv, Predicted : def_shaft_alignment, Actual : def_shaft_alignment, Correct : True, loss : 0.0010\n",
      "2022-09-28 08:40:30,609 - 653/3683 - dataset/current/test/def_shaft_alignment/STFCB-20201012-0105-0145_20201207_004005_002.csv, Predicted : def_shaft_alignment, Actual : def_shaft_alignment, Correct : True, loss : 0.4117\n",
      "2022-09-28 08:40:30,633 - 654/3683 - dataset/current/test/def_shaft_alignment/STFCB-20201012-0105-0141_20201116_174606_002.csv, Predicted : def_shaft_alignment, Actual : def_shaft_alignment, Correct : True, loss : 0.0017\n",
      "2022-09-28 08:40:30,656 - 655/3683 - dataset/current/test/def_shaft_alignment/STFCB-20201012-0105-0149_20201128_232706_002.csv, Predicted : def_shaft_alignment, Actual : def_shaft_alignment, Correct : True, loss : 0.0056\n",
      "2022-09-28 08:40:30,682 - 656/3683 - dataset/current/test/def_shaft_alignment/STFCB-20201012-0105-0143_20210205_140705_002.csv, Predicted : def_shaft_alignment, Actual : def_shaft_alignment, Correct : True, loss : 0.0761\n",
      "2022-09-28 08:40:30,706 - 657/3683 - dataset/current/test/def_shaft_alignment/STFCB-20201012-0105-0133_20201124_210407_002.csv, Predicted : def_shaft_alignment, Actual : def_shaft_alignment, Correct : True, loss : 0.0099\n",
      "2022-09-28 08:40:30,729 - 658/3683 - dataset/current/test/def_shaft_alignment/STFCB-20201012-0105-0133_20201124_220204_002.csv, Predicted : def_shaft_alignment, Actual : def_shaft_alignment, Correct : True, loss : 0.0105\n",
      "2022-09-28 08:40:30,753 - 659/3683 - dataset/current/test/def_shaft_alignment/STFCB-20201012-0105-0148_20201116_022705_002.csv, Predicted : def_shaft_alignment, Actual : def_shaft_alignment, Correct : True, loss : 0.0107\n",
      "2022-09-28 08:40:30,776 - 660/3683 - dataset/current/test/def_shaft_alignment/STFCB-20201012-0105-0137_20201116_062006_002.csv, Predicted : def_shaft_alignment, Actual : def_shaft_alignment, Correct : True, loss : 0.0033\n",
      "2022-09-28 08:40:30,800 - 661/3683 - dataset/current/test/def_shaft_alignment/STFCB-20201012-0105-0137_20201116_041606_002.csv, Predicted : def_shaft_alignment, Actual : def_shaft_alignment, Correct : True, loss : 0.0033\n",
      "2022-09-28 08:40:30,823 - 662/3683 - dataset/current/test/def_shaft_alignment/STFCB-20201012-0105-0149_20201128_213007_002.csv, Predicted : def_shaft_alignment, Actual : def_shaft_alignment, Correct : True, loss : 0.0032\n",
      "2022-09-28 08:40:30,847 - 663/3683 - dataset/current/test/def_shaft_alignment/STFCB-20201012-0105-0137_20201116_055006_002.csv, Predicted : def_shaft_alignment, Actual : def_shaft_alignment, Correct : True, loss : 0.0012\n",
      "2022-09-28 08:40:30,870 - 664/3683 - dataset/current/test/def_shaft_alignment/STFCB-20201012-0105-0133_20201126_060306_002.csv, Predicted : def_shaft_alignment, Actual : def_shaft_alignment, Correct : True, loss : 0.0118\n",
      "2022-09-28 08:40:30,894 - 665/3683 - dataset/current/test/def_shaft_alignment/STFCB-20201012-0105-0134_20201117_135606_002.csv, Predicted : def_shaft_alignment, Actual : def_shaft_alignment, Correct : True, loss : 0.4810\n",
      "2022-09-28 08:40:30,918 - 666/3683 - dataset/current/test/def_shaft_alignment/STFCB-20201012-0105-0133_20201124_160407_002.csv, Predicted : def_shaft_alignment, Actual : def_shaft_alignment, Correct : True, loss : 0.0093\n",
      "2022-09-28 08:40:30,945 - 667/3683 - dataset/current/test/def_shaft_alignment/STFCB-20201012-0105-0139_20201123_170406_002.csv, Predicted : def_shaft_alignment, Actual : def_shaft_alignment, Correct : True, loss : 0.2169\n",
      "2022-09-28 08:40:30,968 - 668/3683 - dataset/current/test/def_shaft_alignment/STFCB-20201012-0105-0149_20201128_052307_002.csv, Predicted : def_shaft_alignment, Actual : def_shaft_alignment, Correct : True, loss : 0.0041\n",
      "2022-09-28 08:40:30,993 - 669/3683 - dataset/current/test/def_shaft_alignment/STFCB-20201012-0105-0134_20201117_135408_002.csv, Predicted : def_shaft_alignment, Actual : def_shaft_alignment, Correct : True, loss : 0.4764\n",
      "2022-09-28 08:40:31,016 - 670/3683 - dataset/current/test/def_shaft_alignment/STFCB-20201012-0105-0148_20201115_232606_002.csv, Predicted : def_shaft_alignment, Actual : def_shaft_alignment, Correct : True, loss : 0.0039\n",
      "2022-09-28 08:40:31,040 - 671/3683 - dataset/current/test/def_shaft_alignment/STFCB-20201012-0105-0137_20201116_054805_002.csv, Predicted : def_shaft_alignment, Actual : def_shaft_alignment, Correct : True, loss : 0.0012\n",
      "2022-09-28 08:40:31,063 - 672/3683 - dataset/current/test/def_shaft_alignment/STFCB-20201012-0105-0133_20201125_210407_002.csv, Predicted : def_shaft_alignment, Actual : def_shaft_alignment, Correct : True, loss : 0.0055\n",
      "2022-09-28 08:40:31,086 - 673/3683 - dataset/current/test/def_shaft_alignment/STFCB-20201012-0105-0145_20201206_224107_002.csv, Predicted : def_shaft_alignment, Actual : def_shaft_alignment, Correct : True, loss : 0.0246\n",
      "2022-09-28 08:40:31,111 - 674/3683 - dataset/current/test/def_shaft_alignment/STFCB-20201012-0105-0134_20201117_133405_002.csv, Predicted : def_shaft_alignment, Actual : def_shaft_alignment, Correct : True, loss : 0.1108\n",
      "2022-09-28 08:40:31,134 - 675/3683 - dataset/current/test/def_shaft_alignment/STFCB-20201012-0105-0149_20201129_132406_002.csv, Predicted : def_shaft_alignment, Actual : def_shaft_alignment, Correct : True, loss : 0.0072\n",
      "2022-09-28 08:40:31,158 - 676/3683 - dataset/current/test/def_shaft_alignment/STFCB-20201012-0105-0141_20201116_144706_002.csv, Predicted : def_shaft_alignment, Actual : def_shaft_alignment, Correct : True, loss : 0.0015\n",
      "2022-09-28 08:40:31,181 - 677/3683 - dataset/current/test/def_shaft_alignment/STFCB-20201012-0105-0149_20201128_202606_002.csv, Predicted : def_shaft_alignment, Actual : def_shaft_alignment, Correct : True, loss : 0.0047\n",
      "2022-09-28 08:40:31,205 - 678/3683 - dataset/current/test/def_shaft_alignment/STFCB-20201012-0105-0133_20201124_120607_002.csv, Predicted : def_shaft_alignment, Actual : def_shaft_alignment, Correct : True, loss : 0.0140\n",
      "2022-09-28 08:40:31,228 - 679/3683 - dataset/current/test/def_shaft_alignment/STFCB-20201012-0105-0133_20201123_190205_002.csv, Predicted : def_shaft_alignment, Actual : def_shaft_alignment, Correct : True, loss : 0.0132\n",
      "2022-09-28 08:40:31,252 - 680/3683 - dataset/current/test/def_shaft_alignment/STFCB-20201012-0105-0133_20201124_100205_002.csv, Predicted : def_shaft_alignment, Actual : def_shaft_alignment, Correct : True, loss : 0.0085\n",
      "2022-09-28 08:40:31,275 - 681/3683 - dataset/current/test/def_shaft_alignment/STFCB-20201012-0105-0133_20201125_141306_002.csv, Predicted : def_shaft_alignment, Actual : def_shaft_alignment, Correct : True, loss : 0.0091\n",
      "2022-09-28 08:40:31,298 - 682/3683 - dataset/current/test/def_shaft_alignment/STFCB-20201012-0105-0133_20201126_090407_002.csv, Predicted : def_shaft_alignment, Actual : def_shaft_alignment, Correct : True, loss : 0.0035\n",
      "2022-09-28 08:40:31,322 - 683/3683 - dataset/current/test/def_shaft_alignment/STFCB-20201012-0105-0133_20201126_080606_002.csv, Predicted : def_shaft_alignment, Actual : def_shaft_alignment, Correct : True, loss : 0.0071\n",
      "2022-09-28 08:40:31,346 - 684/3683 - dataset/current/test/def_shaft_alignment/STFCB-20201012-0105-0145_20201206_171207_002.csv, Predicted : def_shaft_alignment, Actual : def_shaft_alignment, Correct : True, loss : 0.0092\n",
      "2022-09-28 08:40:31,369 - 685/3683 - dataset/current/test/def_shaft_alignment/STFCB-20201012-0105-0141_20201116_184106_002.csv, Predicted : def_shaft_alignment, Actual : def_shaft_alignment, Correct : True, loss : 0.0021\n",
      "2022-09-28 08:40:31,396 - 686/3683 - dataset/current/test/def_shaft_alignment/STFCB-20201012-0105-0143_20210205_110705_002.csv, Predicted : def_shaft_alignment, Actual : def_shaft_alignment, Correct : True, loss : 0.6544\n",
      "2022-09-28 08:40:31,419 - 687/3683 - dataset/current/test/def_shaft_alignment/STFCB-20201012-0105-0143_20210205_130307_002.csv, Predicted : def_shaft_alignment, Actual : def_shaft_alignment, Correct : True, loss : 0.0166\n",
      "2022-09-28 08:40:31,445 - 688/3683 - dataset/current/test/def_shaft_alignment/STFCB-20201012-0105-0143_20210205_190407_002.csv, Predicted : def_shaft_alignment, Actual : def_shaft_alignment, Correct : True, loss : 0.3901\n",
      "2022-09-28 08:40:31,468 - 689/3683 - dataset/current/test/def_shaft_alignment/STFCB-20201012-0105-0133_20201124_160305_002.csv, Predicted : def_shaft_alignment, Actual : def_shaft_alignment, Correct : True, loss : 0.0080\n",
      "2022-09-28 08:40:31,495 - 690/3683 - dataset/current/test/def_shaft_alignment/STFCB-20201012-0105-0143_20210205_210405_002.csv, Predicted : normal, Actual : def_shaft_alignment, Correct : False, loss : 1.3605\n",
      "2022-09-28 08:40:31,518 - 691/3683 - dataset/current/test/def_shaft_alignment/STFCB-20201012-0105-0148_20201116_122607_002.csv, Predicted : def_shaft_alignment, Actual : def_shaft_alignment, Correct : True, loss : 0.0021\n",
      "2022-09-28 08:40:31,541 - 692/3683 - dataset/current/test/def_shaft_alignment/STFCB-20201012-0105-0137_20201116_034905_002.csv, Predicted : def_shaft_alignment, Actual : def_shaft_alignment, Correct : True, loss : 0.0020\n",
      "2022-09-28 08:40:31,565 - 693/3683 - dataset/current/test/def_shaft_alignment/STFCB-20201012-0105-0137_20201116_061506_002.csv, Predicted : def_shaft_alignment, Actual : def_shaft_alignment, Correct : True, loss : 0.0025\n",
      "2022-09-28 08:40:31,588 - 694/3683 - dataset/current/test/def_shaft_alignment/STFCB-20201012-0105-0145_20201207_001005_002.csv, Predicted : def_shaft_alignment, Actual : def_shaft_alignment, Correct : True, loss : 0.0280\n",
      "2022-09-28 08:40:31,612 - 695/3683 - dataset/current/test/def_shaft_alignment/STFCB-20201012-0105-0137_20201116_051305_002.csv, Predicted : def_shaft_alignment, Actual : def_shaft_alignment, Correct : True, loss : 0.0017\n",
      "2022-09-28 08:40:31,635 - 696/3683 - dataset/current/test/def_shaft_alignment/STFCB-20201012-0105-0141_20201116_152006_002.csv, Predicted : def_shaft_alignment, Actual : def_shaft_alignment, Correct : True, loss : 0.0019\n",
      "2022-09-28 08:40:31,659 - 697/3683 - dataset/current/test/def_shaft_alignment/STFCB-20201012-0105-0149_20201128_052806_002.csv, Predicted : def_shaft_alignment, Actual : def_shaft_alignment, Correct : True, loss : 0.0061\n",
      "2022-09-28 08:40:31,683 - 698/3683 - dataset/current/test/def_shaft_alignment/STFCB-20201012-0105-0134_20201117_150707_002.csv, Predicted : def_shaft_alignment, Actual : def_shaft_alignment, Correct : True, loss : 0.5034\n",
      "2022-09-28 08:40:31,707 - 699/3683 - dataset/current/test/def_shaft_alignment/STFCB-20201012-0105-0148_20201116_092506_002.csv, Predicted : def_shaft_alignment, Actual : def_shaft_alignment, Correct : True, loss : 0.0042\n",
      "2022-09-28 08:40:31,730 - 700/3683 - dataset/current/test/def_shaft_alignment/STFCB-20201012-0105-0145_20201206_141306_002.csv, Predicted : def_shaft_alignment, Actual : def_shaft_alignment, Correct : True, loss : 0.0079\n",
      "2022-09-28 08:40:31,753 - 701/3683 - dataset/current/test/def_shaft_alignment/STFCB-20201012-0105-0145_20201206_151107_002.csv, Predicted : def_shaft_alignment, Actual : def_shaft_alignment, Correct : True, loss : 0.0130\n",
      "2022-09-28 08:40:31,777 - 702/3683 - dataset/current/test/def_shaft_alignment/STFCB-20201012-0105-0134_20201117_134907_002.csv, Predicted : def_shaft_alignment, Actual : def_shaft_alignment, Correct : True, loss : 0.4206\n",
      "2022-09-28 08:40:31,801 - 703/3683 - dataset/current/test/def_shaft_alignment/STFCB-20201012-0105-0133_20201126_090305_002.csv, Predicted : def_shaft_alignment, Actual : def_shaft_alignment, Correct : True, loss : 0.0058\n",
      "2022-09-28 08:40:31,825 - 704/3683 - dataset/current/test/def_shaft_alignment/STFCB-20201012-0105-0149_20201128_122606_002.csv, Predicted : def_shaft_alignment, Actual : def_shaft_alignment, Correct : True, loss : 0.0027\n",
      "2022-09-28 08:40:31,855 - 705/3683 - dataset/current/test/def_shaft_alignment/STFCB-20201012-0105-0139_20201123_110506_002.csv, Predicted : def_shaft_alignment, Actual : def_shaft_alignment, Correct : True, loss : 0.6316\n",
      "2022-09-28 08:40:31,883 - 706/3683 - dataset/current/test/def_shaft_alignment/STFCB-20201012-0105-0133_20201124_220205_002.csv, Predicted : def_shaft_alignment, Actual : def_shaft_alignment, Correct : True, loss : 0.0100\n",
      "2022-09-28 08:40:31,910 - 707/3683 - dataset/current/test/def_shaft_alignment/STFCB-20201012-0105-0133_20201124_210406_002.csv, Predicted : def_shaft_alignment, Actual : def_shaft_alignment, Correct : True, loss : 0.0113\n",
      "2022-09-28 08:40:31,937 - 708/3683 - dataset/current/test/def_shaft_alignment/STFCB-20201012-0105-0149_20201128_232707_002.csv, Predicted : def_shaft_alignment, Actual : def_shaft_alignment, Correct : True, loss : 0.0054\n",
      "2022-09-28 08:40:31,967 - 709/3683 - dataset/current/test/def_shaft_alignment/STFCB-20201012-0105-0143_20210205_150505_002.csv, Predicted : normal, Actual : def_shaft_alignment, Correct : False, loss : 0.7106\n",
      "2022-09-28 08:40:31,994 - 710/3683 - dataset/current/test/def_shaft_alignment/STFCB-20201012-0105-0141_20201116_174607_002.csv, Predicted : def_shaft_alignment, Actual : def_shaft_alignment, Correct : True, loss : 0.0016\n",
      "2022-09-28 08:40:32,022 - 711/3683 - dataset/current/test/def_shaft_alignment/STFCB-20201012-0105-0145_20201207_014205_002.csv, Predicted : def_shaft_alignment, Actual : def_shaft_alignment, Correct : True, loss : 0.1315\n",
      "2022-09-28 08:40:32,049 - 712/3683 - dataset/current/test/def_shaft_alignment/STFCB-20201012-0105-0133_20201125_080508_002.csv, Predicted : def_shaft_alignment, Actual : def_shaft_alignment, Correct : True, loss : 0.0101\n",
      "2022-09-28 08:40:32,076 - 713/3683 - dataset/current/test/def_shaft_alignment/STFCB-20201012-0105-0148_20201116_052404_002.csv, Predicted : def_shaft_alignment, Actual : def_shaft_alignment, Correct : True, loss : 0.0092\n",
      "2022-09-28 08:40:32,104 - 714/3683 - dataset/current/test/def_shaft_alignment/STFCB-20201012-0105-0141_20201116_181107_002.csv, Predicted : def_shaft_alignment, Actual : def_shaft_alignment, Correct : True, loss : 0.0015\n",
      "2022-09-28 08:40:32,132 - 715/3683 - dataset/current/test/def_shaft_alignment/STFCB-20201012-0105-0145_20201206_214006_002.csv, Predicted : def_shaft_alignment, Actual : def_shaft_alignment, Correct : True, loss : 0.0352\n",
      "2022-09-28 08:40:32,158 - 716/3683 - dataset/current/test/def_shaft_alignment/STFCB-20201012-0105-0149_20201129_093005_002.csv, Predicted : def_shaft_alignment, Actual : def_shaft_alignment, Correct : True, loss : 0.0303\n",
      "2022-09-28 08:40:32,186 - 717/3683 - dataset/current/test/def_shaft_alignment/STFCB-20201012-0105-0133_20201123_170408_002.csv, Predicted : def_shaft_alignment, Actual : def_shaft_alignment, Correct : True, loss : 0.0050\n",
      "2022-09-28 08:40:32,215 - 718/3683 - dataset/current/test/def_shaft_alignment/STFCB-20201012-0105-0143_20210205_120707_002.csv, Predicted : def_shaft_alignment, Actual : def_shaft_alignment, Correct : True, loss : 0.1387\n",
      "2022-09-28 08:40:32,245 - 719/3683 - dataset/current/test/def_shaft_alignment/STFCB-20201012-0105-0143_20210205_130506_002.csv, Predicted : def_shaft_alignment, Actual : def_shaft_alignment, Correct : True, loss : 0.1190\n",
      "2022-09-28 08:40:32,272 - 720/3683 - dataset/current/test/def_shaft_alignment/STFCB-20201012-0105-0133_20201126_050406_002.csv, Predicted : def_shaft_alignment, Actual : def_shaft_alignment, Correct : True, loss : 0.0052\n",
      "2022-09-28 08:40:32,300 - 721/3683 - dataset/current/test/def_shaft_alignment/STFCB-20201012-0105-0133_20201126_060205_002.csv, Predicted : def_shaft_alignment, Actual : def_shaft_alignment, Correct : True, loss : 0.0118\n",
      "2022-09-28 08:40:32,327 - 722/3683 - dataset/current/test/def_shaft_alignment/STFCB-20201012-0105-0133_20201125_060407_002.csv, Predicted : def_shaft_alignment, Actual : def_shaft_alignment, Correct : True, loss : 0.0057\n",
      "2022-09-28 08:40:32,355 - 723/3683 - dataset/current/test/def_shaft_alignment/STFCB-20201012-0105-0137_20201116_061307_002.csv, Predicted : def_shaft_alignment, Actual : def_shaft_alignment, Correct : True, loss : 0.0015\n",
      "2022-09-28 08:40:32,383 - 724/3683 - dataset/current/test/def_shaft_alignment/STFCB-20201012-0105-0134_20201117_150106_002.csv, Predicted : def_shaft_alignment, Actual : def_shaft_alignment, Correct : True, loss : 0.0122\n",
      "2022-09-28 08:40:32,411 - 725/3683 - dataset/current/test/def_shaft_alignment/STFCB-20201012-0105-0148_20201116_092307_002.csv, Predicted : def_shaft_alignment, Actual : def_shaft_alignment, Correct : True, loss : 0.0102\n",
      "2022-09-28 08:40:32,438 - 726/3683 - dataset/current/test/def_shaft_alignment/STFCB-20201012-0105-0149_20201129_132906_002.csv, Predicted : def_shaft_alignment, Actual : def_shaft_alignment, Correct : True, loss : 0.0059\n",
      "2022-09-28 08:40:32,465 - 727/3683 - dataset/current/test/def_shaft_alignment/STFCB-20201012-0105-0133_20201125_141205_002.csv, Predicted : def_shaft_alignment, Actual : def_shaft_alignment, Correct : True, loss : 0.0091\n",
      "2022-09-28 08:40:32,493 - 728/3683 - dataset/current/test/def_shaft_alignment/STFCB-20201012-0105-0148_20201116_033007_002.csv, Predicted : def_shaft_alignment, Actual : def_shaft_alignment, Correct : True, loss : 0.0089\n",
      "2022-09-28 08:40:32,520 - 729/3683 - dataset/current/test/def_shaft_alignment/STFCB-20201012-0105-0133_20201123_190306_002.csv, Predicted : def_shaft_alignment, Actual : def_shaft_alignment, Correct : True, loss : 0.0132\n",
      "2022-09-28 08:40:32,578 - 731/3683 - dataset/current/test/def_shaft_alignment/STFCB-20201012-0105-0143_20210205_170706_002.csv, Predicted : normal, Actual : def_shaft_alignment, Correct : False, loss : 1.6489\n",
      "2022-09-28 08:40:32,605 - 732/3683 - dataset/current/test/def_shaft_alignment/STFCB-20201012-0105-0149_20201128_092306_002.csv, Predicted : def_shaft_alignment, Actual : def_shaft_alignment, Correct : True, loss : 0.0034\n",
      "^C\n",
      "Traceback (most recent call last):\n",
      "  File \"./model/pytorch/lstm/predict.py\", line 63, in <module>\n",
      "    outputs = model(x_train)\n",
      "  File \"/usr/local/lib/python3.6/dist-packages/torch/nn/modules/module.py\", line 1102, in _call_impl\n",
      "    return forward_call(*input, **kwargs)\n",
      "  File \"/home/workspace/iot_ai_model/model/pytorch/lstm/model.py\", line 49, in forward\n",
      "    x, _status = self.lstm(x)\n",
      "  File \"/usr/local/lib/python3.6/dist-packages/torch/nn/modules/module.py\", line 1102, in _call_impl\n",
      "    return forward_call(*input, **kwargs)\n",
      "  File \"/usr/local/lib/python3.6/dist-packages/torch/nn/modules/rnn.py\", line 692, in forward\n",
      "    self.dropout, self.training, self.bidirectional, self.batch_first)\n",
      "KeyboardInterrupt\n"
     ]
    }
   ],
   "source": [
    "!python3 ./model/pytorch/lstm/predict.py"
   ]
  },
  {
   "cell_type": "code",
   "execution_count": null,
   "id": "f5822fd5-e180-49c4-8caf-4212e5478129",
   "metadata": {},
   "outputs": [],
   "source": [
    "!python3 ./model/pytorch/rnn/predict.py"
   ]
  }
 ],
 "metadata": {
  "kernelspec": {
   "display_name": "Python 3",
   "language": "python",
   "name": "python3"
  },
  "language_info": {
   "codemirror_mode": {
    "name": "ipython",
    "version": 3
   },
   "file_extension": ".py",
   "mimetype": "text/x-python",
   "name": "python",
   "nbconvert_exporter": "python",
   "pygments_lexer": "ipython3",
   "version": "3.6.9"
  }
 },
 "nbformat": 4,
 "nbformat_minor": 5
}

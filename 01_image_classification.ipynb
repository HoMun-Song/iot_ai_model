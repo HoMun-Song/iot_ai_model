{
 "cells": [
  {
   "cell_type": "code",
   "execution_count": 1,
   "id": "382ee6f4-65d4-41ce-becc-5ecb927d8671",
   "metadata": {},
   "outputs": [
    {
     "name": "stderr",
     "output_type": "stream",
     "text": [
      "/Users/handh/dev/workspace/python/didimdol/didimdol/lib/python3.8/site-packages/tqdm/auto.py:22: TqdmWarning: IProgress not found. Please update jupyter and ipywidgets. See https://ipywidgets.readthedocs.io/en/stable/user_install.html\n",
      "  from .autonotebook import tqdm as notebook_tqdm\n"
     ]
    }
   ],
   "source": [
    "import model.efficientv2 as efficient\n",
    "import model.inceptionv4 as inception\n",
    "from utils.imageloader import ImageDataset"
   ]
  },
  {
   "cell_type": "code",
   "execution_count": 2,
   "id": "a84ec658-58d5-4bce-88ef-07c5eb2933cf",
   "metadata": {},
   "outputs": [],
   "source": [
    "import os\n",
    "from tqdm import tqdm\n",
    "import torch\n",
    "from torchvision import transforms\n",
    "import torch.nn as nn\n",
    "import torch.nn.functional as F\n",
    "import torch.optim as optim\n",
    "import torch.optim.lr_scheduler as lr_scheduler"
   ]
  },
  {
   "cell_type": "code",
   "execution_count": 14,
   "id": "aad1bda1-a1b9-4c1d-90cc-ea73afc21081",
   "metadata": {},
   "outputs": [],
   "source": [
    "import timm\n",
    "model = timm.create_model('inception_v4', pretrained=False, num_classes = 1)"
   ]
  },
  {
   "cell_type": "code",
   "execution_count": 15,
   "id": "2423eb93-ff4f-4fd5-a77f-d38f2f33f637",
   "metadata": {},
   "outputs": [],
   "source": [
    "dataset = ImageDataset('dataset/casting/casting_data/casting_data/train')"
   ]
  },
  {
   "cell_type": "code",
   "execution_count": 16,
   "id": "bed7eaae-0631-4f5a-9f11-b8143ac6dba5",
   "metadata": {},
   "outputs": [],
   "source": [
    "dataloader = torch.utils.data.DataLoader(dataset,\n",
    "                                         batch_size=2,\n",
    "                                         shuffle=True,\n",
    "                                         num_workers=4)"
   ]
  },
  {
   "cell_type": "code",
   "execution_count": 17,
   "id": "fbb19315-7dfb-4c46-834a-8c1b533dca85",
   "metadata": {},
   "outputs": [],
   "source": [
    "criterion = nn.BCEWithLogitsLoss()\n",
    "optimizer = optim.AdamW(model.parameters(), lr = 0.01)    "
   ]
  },
  {
   "cell_type": "code",
   "execution_count": 18,
   "id": "a7dd70e8-84be-4f4b-bf19-d009544f3d2d",
   "metadata": {},
   "outputs": [
    {
     "ename": "AttributeError",
     "evalue": "'float' object has no attribute '4f'",
     "output_type": "error",
     "traceback": [
      "\u001b[0;31m---------------------------------------------------------------------------\u001b[0m",
      "\u001b[0;31mAttributeError\u001b[0m                            Traceback (most recent call last)",
      "Input \u001b[0;32mIn [18]\u001b[0m, in \u001b[0;36m<cell line: 4>\u001b[0;34m()\u001b[0m\n\u001b[1;32m     24\u001b[0m     trn_correct \u001b[38;5;241m+\u001b[39m\u001b[38;5;241m=\u001b[39m output\u001b[38;5;241m.\u001b[39meq(target)\u001b[38;5;241m.\u001b[39mint()\u001b[38;5;241m.\u001b[39msum()\n\u001b[1;32m     25\u001b[0m     \u001b[38;5;28mprint\u001b[39m(\u001b[38;5;124m\"\u001b[39m\u001b[38;5;124mepoch:\u001b[39m\u001b[38;5;132;01m{}\u001b[39;00m\u001b[38;5;124m, aucc:\u001b[39m\u001b[38;5;132;01m{:.4f}\u001b[39;00m\u001b[38;5;124m, loss:\u001b[39m\u001b[38;5;124m{\u001b[39m\u001b[38;5;124m.4f}\u001b[39m\u001b[38;5;124m\"\u001b[39m\u001b[38;5;241m.\u001b[39mformat(epoch, (trn_correct\u001b[38;5;241m/\u001b[39m\u001b[38;5;28mlen\u001b[39m(dataset)), (trn_loss\u001b[38;5;241m/\u001b[39m\u001b[38;5;28mlen\u001b[39m(dataset)) ))\n\u001b[0;32m---> 27\u001b[0m \u001b[38;5;28mprint\u001b[39m(\u001b[38;5;124;43m\"\u001b[39;49m\u001b[38;5;124;43mepoch:\u001b[39;49m\u001b[38;5;132;43;01m{}\u001b[39;49;00m\u001b[38;5;124;43m, aucc:\u001b[39;49m\u001b[38;5;132;43;01m{:.4f}\u001b[39;49;00m\u001b[38;5;124;43m, loss:\u001b[39;49m\u001b[38;5;124;43m{\u001b[39;49m\u001b[38;5;124;43m.4f}\u001b[39;49m\u001b[38;5;124;43m\"\u001b[39;49m\u001b[38;5;241;43m.\u001b[39;49m\u001b[43mformat\u001b[49m\u001b[43m(\u001b[49m\u001b[43mepoch\u001b[49m\u001b[43m,\u001b[49m\u001b[43m \u001b[49m\u001b[43m(\u001b[49m\u001b[43mtrn_correct\u001b[49m\u001b[38;5;241;43m/\u001b[39;49m\u001b[38;5;28;43mlen\u001b[39;49m\u001b[43m(\u001b[49m\u001b[43mdataset\u001b[49m\u001b[43m)\u001b[49m\u001b[43m)\u001b[49m\u001b[43m,\u001b[49m\u001b[43m \u001b[49m\u001b[43m(\u001b[49m\u001b[43mtrn_loss\u001b[49m\u001b[38;5;241;43m/\u001b[39;49m\u001b[38;5;28;43mlen\u001b[39;49m\u001b[43m(\u001b[49m\u001b[43mdataset\u001b[49m\u001b[43m)\u001b[49m\u001b[43m)\u001b[49m\u001b[43m \u001b[49m\u001b[43m)\u001b[49m)\n",
      "\u001b[0;31mAttributeError\u001b[0m: 'float' object has no attribute '4f'"
     ]
    }
   ],
   "source": [
    "epochs = 1\n",
    "\n",
    "model.train()\n",
    "for epoch in range(1, epochs+1):\n",
    "    trn_loss = .0\n",
    "    trn_aucc = .0\n",
    "    trn_correct = 0\n",
    "\n",
    "    for data, target in dataloader:\n",
    "        output = model(data)\n",
    "        \n",
    "        break\n",
    "        output = output.squeeze(dim=1)\n",
    "        loss = criterion(output, target)\n",
    "        \n",
    "        optimizer.zero_grad()\n",
    "        loss.backward()\n",
    "        optimizer.step()\n",
    "        \n",
    "        trn_loss += loss\n",
    "        \n",
    "        output[output >= 0.5] = 1\n",
    "        output[output < 0.5] = 0\n",
    "        trn_correct += output.eq(target).int().sum()\n",
    "        print(\"epoch:{}, aucc:{:.4f}, loss:{.4f}\".format(epoch, (trn_correct/len(dataset)), (trn_loss/len(dataset)) ))\n",
    "        \n",
    "    print(\"epoch:{}, aucc:{:.4f}, loss:{.4f}\".format(epoch, (trn_correct/len(dataset)), (trn_loss/len(dataset)) ))"
   ]
  },
  {
   "cell_type": "code",
   "execution_count": 19,
   "id": "e29c3a7b-d415-4dd0-b052-98d48c6a010d",
   "metadata": {},
   "outputs": [
    {
     "data": {
      "text/plain": [
       "torch.Size([2, 1])"
      ]
     },
     "execution_count": 19,
     "metadata": {},
     "output_type": "execute_result"
    }
   ],
   "source": [
    "output.shape"
   ]
  },
  {
   "cell_type": "code",
   "execution_count": null,
   "id": "fec604fd-72e3-463e-ab4f-9d021b86714d",
   "metadata": {},
   "outputs": [],
   "source": []
  }
 ],
 "metadata": {
  "kernelspec": {
   "display_name": "Python 3 (ipykernel)",
   "language": "python",
   "name": "python3"
  },
  "language_info": {
   "codemirror_mode": {
    "name": "ipython",
    "version": 3
   },
   "file_extension": ".py",
   "mimetype": "text/x-python",
   "name": "python",
   "nbconvert_exporter": "python",
   "pygments_lexer": "ipython3",
   "version": "3.8.9"
  }
 },
 "nbformat": 4,
 "nbformat_minor": 5
}

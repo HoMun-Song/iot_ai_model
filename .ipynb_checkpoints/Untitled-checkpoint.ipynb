{
 "cells": [
  {
   "cell_type": "code",
   "execution_count": 1,
   "id": "6c6c46a7-79db-4c1f-9a5d-81e362191434",
   "metadata": {},
   "outputs": [],
   "source": [
    "from PIL import Image\n",
    "import cv2,os\n",
    "import numpy as np"
   ]
  },
  {
   "cell_type": "code",
   "execution_count": 2,
   "id": "b3378364-cb4c-40d6-a603-6cd5bd477698",
   "metadata": {},
   "outputs": [],
   "source": [
    "img = cv2.imread('/home/workspace/iot_ai_model/dataset/supervisely_person/images/ds9_pexels-photo-884551.png')"
   ]
  },
  {
   "cell_type": "code",
   "execution_count": null,
   "id": "99ae2af5-c9b2-4daf-9e72-47f456b5b538",
   "metadata": {},
   "outputs": [],
   "source": [
    "cv2.imshow('omg', img)"
   ]
  },
  {
   "cell_type": "code",
   "execution_count": null,
   "id": "93054ddc-1696-40f5-ba7e-e5296da1355f",
   "metadata": {},
   "outputs": [],
   "source": []
  }
 ],
 "metadata": {
  "kernelspec": {
   "display_name": "Python 3",
   "language": "python",
   "name": "python3"
  },
  "language_info": {
   "codemirror_mode": {
    "name": "ipython",
    "version": 3
   },
   "file_extension": ".py",
   "mimetype": "text/x-python",
   "name": "python",
   "nbconvert_exporter": "python",
   "pygments_lexer": "ipython3",
   "version": "3.6.9"
  }
 },
 "nbformat": 4,
 "nbformat_minor": 5
}
